{
 "cells": [
  {
   "cell_type": "code",
   "execution_count": 13,
   "metadata": {},
   "outputs": [],
   "source": [
    "import pandas as pd\n",
    "from molsol import KDESol, KDESolConfig\n",
    "import json\n",
    "import selfies as sf\n",
    "import tensorflow as tf\n",
    "\n",
    "with open(\"molsol/voc.json\", 'r') as inp:\n",
    "  voc = json.load(inp)\n",
    "\n",
    "m = KDESol(KDESolConfig(), './molsol/kde10_lstm_r')"
   ]
  },
  {
   "cell_type": "code",
   "execution_count": 14,
   "metadata": {},
   "outputs": [
    {
     "data": {
      "text/plain": [
       "<kdens.kdens.DeepEnsemble at 0x2d1f230d0>"
      ]
     },
     "execution_count": 14,
     "metadata": {},
     "output_type": "execute_result"
    }
   ],
   "source": [
    "m.model"
   ]
  },
  {
   "cell_type": "code",
   "execution_count": 59,
   "metadata": {},
   "outputs": [],
   "source": [
    "AqSolDB = pd.read_csv(f\"curated-solubility-dataset.tab\",sep=\"\\t\")[['SMILES', 'Solubility']]\n",
    "labels = AqSolDB[\"Solubility\"]\n",
    "AqSolDB[\"SELFIES\"] = AqSolDB[\"SMILES\"].map(m.encoder)\n",
    "AqSolDB = AqSolDB.dropna()\n",
    "AqSolDB[\"SELFIES_TOKENS\"] = AqSolDB[\"SELFIES\"].map(m.stoi)\n",
    "AqSolDB = AqSolDB.dropna()\n",
    "\n",
    "padded_seqs = tf.keras.preprocessing.sequence.pad_sequences(AqSolDB[\"SELFIES_TOKENS\"].to_numpy(), padding=\"post\")\n",
    "sol_values = AqSolDB[\"Solubility\"].to_numpy()"
   ]
  },
  {
   "cell_type": "code",
   "execution_count": 60,
   "metadata": {},
   "outputs": [],
   "source": [
    "split=int(0.2*len(padded_seqs))\n",
    "val_data = tf.data.Dataset.from_tensor_slices(\n",
    "        (padded_seqs[split:2*split], sol_values[split:2*split])\n",
    "    )\n",
    "val_data = val_data.batch(32).cache().prefetch(\n",
    "        tf.data.AUTOTUNE\n",
    "    )"
   ]
  },
  {
   "cell_type": "code",
   "execution_count": 61,
   "metadata": {},
   "outputs": [],
   "source": [
    "import numpy as np\n",
    "X_val, y_val = (np.concatenate([x[0].numpy()[np.newaxis,...] for x in val_data.unbatch()]), \n",
    "                np.concatenate([y for x, y in val_data]))"
   ]
  },
  {
   "cell_type": "code",
   "execution_count": 62,
   "metadata": {},
   "outputs": [
    {
     "data": {
      "text/plain": [
       "(1984, 634)"
      ]
     },
     "execution_count": 62,
     "metadata": {},
     "output_type": "execute_result"
    }
   ],
   "source": [
    "X_val.shape"
   ]
  },
  {
   "cell_type": "code",
   "execution_count": 73,
   "metadata": {},
   "outputs": [
    {
     "name": "stdout",
     "output_type": "stream",
     "text": [
      "1/1 [==============================] - 0s 238ms/step\n"
     ]
    }
   ],
   "source": [
    "import numpy as np\n",
    "\n",
    "slf = m.encoder(\"COCOOCOCO\")\n",
    "tok = np.array(m.stoi(slf))\n",
    "# padded_tok = tf.keras.preprocessing.sequence.pad_sequences([tok,tok], padding=\"post\")\n",
    "\n",
    "# print(X_val[0])\n",
    "# print(tok[0])\n",
    "# pred = m(X_val)\n",
    "pred = m(np.array([tok, tok]))\n"
   ]
  },
  {
   "cell_type": "code",
   "execution_count": 68,
   "metadata": {},
   "outputs": [
    {
     "data": {
      "text/plain": [
       "array([[0.12362216, 1.7795107 , 0.4629264 ],\n",
       "       [0.12362216, 1.7795107 , 0.4629264 ],\n",
       "       [0.12362216, 1.7795107 , 0.4629264 ]], dtype=float32)"
      ]
     },
     "execution_count": 68,
     "metadata": {},
     "output_type": "execute_result"
    }
   ],
   "source": [
    "pred"
   ]
  }
 ],
 "metadata": {
  "kernelspec": {
   "display_name": "molsol",
   "language": "python",
   "name": "python3"
  },
  "language_info": {
   "codemirror_mode": {
    "name": "ipython",
    "version": 3
   },
   "file_extension": ".py",
   "mimetype": "text/x-python",
   "name": "python",
   "nbconvert_exporter": "python",
   "pygments_lexer": "ipython3",
   "version": "3.11.4"
  },
  "orig_nbformat": 4
 },
 "nbformat": 4,
 "nbformat_minor": 2
}
